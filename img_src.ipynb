{
 "cells": [
  {
   "cell_type": "code",
   "execution_count": 45,
   "metadata": {},
   "outputs": [
    {
     "name": "stdout",
     "output_type": "stream",
     "text": [
      "f_668037_1565312952620_rKp2TQUvi8V3o1V9Noy5q.png 다운로드 완료\n",
      "f_668078_1565312952620_BW4g6e2f2WBF2y4vDmXUt.png 다운로드 완료\n",
      "f_668181_1565312952620_qlZ7o8Lwz2m8ok3AMp7ZX.png 다운로드 완료\n",
      "f_668236_1565312952620_sT4S5PoRM6v3igUQ6lE0f.png 다운로드 완료\n",
      "f_668323_1565312952620_iVgF4kih0IBo9F4iLsS.png 다운로드 완료\n",
      "f_668394_1565312952620_yTfmkh5Cgs8pI1G8WOw.png 다운로드 완료\n",
      "f_668441_1565312952620_zCRPT2sG4ltet1RQAO.png 다운로드 완료\n",
      "f_668529_1565312952620_lVybP8fO3pVNbMfFH.png 다운로드 완료\n",
      "f_668561_1565312952620_a2Z9P4AOQ5Tlb3i5Ro6UfH.png 다운로드 완료\n",
      "f_667366_1565312952620_lGrp6dOTc8K8dxmBF5P.png 다운로드 완료\n",
      "f_667414_1565312952620_yiM8HT5Cmo3bP2H8q0DD9c.png 다운로드 완료\n",
      "f_667508_1565312952620_PF7T3vnKKuvGT8JNFN.png 다운로드 완료\n",
      "f_667573_1565312952620_kncJ4JkbP6T1UqS8GVD.png 다운로드 완료\n",
      "f_667671_1565312952620_h6ci1BnJ6SC8t7hwrDa6F.png 다운로드 완료\n",
      "f_667743_1565312952620_mSwblL9OmpHBefm2C.png 다운로드 완료\n",
      "f_667828_1565312952620_Ga8fa5nA9yx7RPw1n9l3Gm.png 다운로드 완료\n",
      "f_667893_1565312952620_s5sg8MU8C7dP1JWUwD1WE.png 다운로드 완료\n",
      "f_668014_1565312952620_JchLP5oohxXhPl0Wn.png 다운로드 완료\n",
      "f_668034_1565312952620_W1qCim2EaeHt2d3T7h1UL.png 다운로드 완료\n",
      "f_668039_1565312952620_r9U8x5RusDHFk7S2mk1lH.png 다운로드 완료\n",
      "f_668041_1565312952620_lTlX1N1DNC1A4sq8qS4Tc.png 다운로드 완료\n",
      "f_668044_1565312952620_p1H4p5nInsBl3J0Pb2fz1s.png 다운로드 완료\n",
      "f_668046_1565312952620_Rk9Wvoq0rK4O8iCh8puK.png 다운로드 완료\n",
      "f_668048_1565312952620_lruSi9fqBA6xXJAw5W.png 다운로드 완료\n",
      "f_668051_1565312952620_vW9ZcFJNk9oaz5kU6wI.png 다운로드 완료\n",
      "f_668053_1565312952620_T1akKCZqM1XOiZ2re9R.png 다운로드 완료\n",
      "f_668056_1565312952620_PPV2FN2kPt9Dx7G8Li1p6l.png 다운로드 완료\n",
      "f_668058_1565312952620_KG8e4y2b0yAQwAgX6T4lv.png 다운로드 완료\n",
      "f_668068_1565312952620_z3uFdxnE7dX8U3LP4z3sh.png 다운로드 완료\n",
      "f_668080_1565312952620_AG9GXAyi0CJ6bFRTcX.png 다운로드 완료\n",
      "이미지 다운로드 완료\n"
     ]
    }
   ],
   "source": [
    "import os\n",
    "import requests\n",
    "from bs4 import BeautifulSoup\n",
    "\n",
    "download_folder = 'EMOTICON'\n",
    "# download_folder = download_folder + '_icon'\n",
    "\n",
    "# HTML 파일 이름\n",
    "html_file = 'line2.html'\n",
    "\n",
    "# HTML 파일을 읽어옵니다.\n",
    "with open(html_file, 'r', encoding='utf-8') as file:\n",
    "    html_content = file.read()\n",
    "\n",
    "# BeautifulSoup을 사용하여 HTML 파싱\n",
    "soup = BeautifulSoup(html_content, 'html.parser')\n",
    "\n",
    "# 모든 이미지 태그(<img>)를 찾습니다.\n",
    "img_tags = soup.find_all('img')\n",
    "\n",
    "# 이미지를 다운로드할 폴더를 만듭니다.\n",
    "os.makedirs(download_folder, exist_ok=True)\n",
    "\n",
    "# 이미지를 다운로드합니다.\n",
    "for img_tag in img_tags:\n",
    "    img_url = img_tag['src']\n",
    "\n",
    "    # URL에 스키마가 포함되어 있지 않으면 'https:'를 추가합니다.\n",
    "    if img_url.startswith('//'):\n",
    "        img_url = 'https:' + img_url\n",
    "\n",
    "    img_name = os.path.basename(img_url)\n",
    "    img_path = os.path.join(download_folder, img_name)\n",
    "\n",
    "    # 이미지 다운로드\n",
    "    response = requests.get(img_url)\n",
    "    if response.status_code == 200:\n",
    "        with open(img_path, 'wb') as img_file:\n",
    "            img_file.write(response.content)\n",
    "            print(f'{img_name} 다운로드 완료')\n",
    "    else:\n",
    "        print(f'{img_name} 다운로드 실패')\n",
    "\n",
    "print('이미지 다운로드 완료')\n"
   ]
  },
  {
   "cell_type": "code",
   "execution_count": null,
   "metadata": {},
   "outputs": [],
   "source": []
  }
 ],
 "metadata": {
  "kernelspec": {
   "display_name": "playground",
   "language": "python",
   "name": "python3"
  },
  "language_info": {
   "codemirror_mode": {
    "name": "ipython",
    "version": 3
   },
   "file_extension": ".py",
   "mimetype": "text/x-python",
   "name": "python",
   "nbconvert_exporter": "python",
   "pygments_lexer": "ipython3",
   "version": "3.8.17"
  },
  "orig_nbformat": 4
 },
 "nbformat": 4,
 "nbformat_minor": 2
}
